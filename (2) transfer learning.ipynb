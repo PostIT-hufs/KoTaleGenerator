{
 "cells": [
  {
   "cell_type": "markdown",
   "id": "647d7307",
   "metadata": {},
   "source": [
    "# 아영 - Transfer Learning"
   ]
  },
  {
   "cell_type": "markdown",
   "id": "70e3f275",
   "metadata": {},
   "source": [
    "### Note\n",
    "- 학습 epoch : 160 => loss : 0.0x (gone)\n",
    "- Model : SKT Ko-GPT2 (pretrained)\n",
    "\n",
    "checkpoint1 : 20\n",
    "\n",
    "checkpoint2: 40\n",
    "\n",
    "checkpoint3 : 150(current)"
   ]
  },
  {
   "cell_type": "markdown",
   "id": "f90d92cf",
   "metadata": {},
   "source": [
    "# 1. Ready"
   ]
  },
  {
   "cell_type": "markdown",
   "id": "1f1b1866",
   "metadata": {},
   "source": [
    "## 1.1 기본 패키지 임포트"
   ]
  },
  {
   "cell_type": "code",
   "execution_count": 1,
   "id": "f25fd328",
   "metadata": {},
   "outputs": [],
   "source": [
    "import torch\n",
    "from torch.utils.data import DataLoader\n"
   ]
  },
  {
   "cell_type": "markdown",
   "id": "5c487c99",
   "metadata": {},
   "source": [
    "## 1.2 CUDA Check"
   ]
  },
  {
   "cell_type": "code",
   "execution_count": 2,
   "id": "0ede8e54",
   "metadata": {},
   "outputs": [
    {
     "name": "stdout",
     "output_type": "stream",
     "text": [
      "된다!\n"
     ]
    }
   ],
   "source": [
    "if torch.cuda.device_count():\n",
    "  print('된다!')\n",
    "  PU = 'cuda'\n",
    "else:\n",
    "  PU = 'cpu'"
   ]
  },
  {
   "cell_type": "markdown",
   "id": "adfff930",
   "metadata": {},
   "source": [
    "## 1.3 Download Pretrained Ko-GPT2"
   ]
  },
  {
   "cell_type": "markdown",
   "id": "6c904687",
   "metadata": {},
   "source": [
    "### KoGPT2 Clone"
   ]
  },
  {
   "cell_type": "code",
   "execution_count": 3,
   "id": "98dc2045",
   "metadata": {},
   "outputs": [
    {
     "name": "stderr",
     "output_type": "stream",
     "text": [
      "fatal: destination path 'KoGPT2' already exists and is not an empty directory.\n"
     ]
    }
   ],
   "source": [
    "!git clone https://github.com/SKT-AI/KoGPT2.git"
   ]
  },
  {
   "cell_type": "markdown",
   "id": "8105de0c",
   "metadata": {},
   "source": [
    "### Tokenizer, Model download "
   ]
  },
  {
   "cell_type": "code",
   "execution_count": 4,
   "id": "0a6c80ca",
   "metadata": {},
   "outputs": [],
   "source": [
    "MODEL_NAME = \"skt/kogpt2-base-v2\"\n",
    "save_path = './modelCheckpoint/'"
   ]
  },
  {
   "cell_type": "code",
   "execution_count": 5,
   "id": "ca1540aa",
   "metadata": {},
   "outputs": [
    {
     "name": "stderr",
     "output_type": "stream",
     "text": [
      "The tokenizer class you load from this checkpoint is not the same type as the class this function is called from. It may result in unexpected tokenization. \n",
      "The tokenizer class you load from this checkpoint is 'GPT2Tokenizer'. \n",
      "The class this function is called from is 'PreTrainedTokenizerFast'.\n"
     ]
    },
    {
     "name": "stdout",
     "output_type": "stream",
     "text": [
      "{'bos_token': '<s>', 'eos_token': '</s>', 'unk_token': '<unk>', 'pad_token': '<pad>', 'mask_token': '<mask>'}\n"
     ]
    }
   ],
   "source": [
    "from transformers import PreTrainedTokenizerFast\n",
    "from transformers import GPT2LMHeadModel\n",
    "\n",
    "tokenizer = PreTrainedTokenizerFast.from_pretrained(MODEL_NAME)\n",
    "model = GPT2LMHeadModel.from_pretrained(MODEL_NAME)\n",
    "TOKENS_DICT = {\n",
    "    'bos_token':'<s>',\n",
    "    'eos_token':'</s>',\n",
    "    'unk_token':'<unk>',\n",
    "    'pad_token':'<pad>',\n",
    "    'mask_token':'<mask>'\n",
    "}\n",
    "\n",
    "# 특수 토큰이 토크나이저에 추가되고 모델은 수정된 토크나이저에 맞게 임베딩의 크기를 조정\n",
    "tokenizer.add_special_tokens(TOKENS_DICT)\n",
    "model.resize_token_embeddings(len(tokenizer))\n",
    "\n",
    "print(tokenizer.special_tokens_map)"
   ]
  },
  {
   "cell_type": "markdown",
   "id": "145977c2",
   "metadata": {},
   "source": [
    "# 2. 데이터 세팅"
   ]
  },
  {
   "cell_type": "code",
   "execution_count": 6,
   "id": "670473f6",
   "metadata": {},
   "outputs": [],
   "source": [
    "from util.data_setter import Data_Set"
   ]
  },
  {
   "cell_type": "code",
   "execution_count": 7,
   "id": "ef7ee7ed",
   "metadata": {},
   "outputs": [],
   "source": [
    "file_path = './data/정제/merged_data.txt'\n",
    "data = Data_Set(file_path, tokenizer)\n",
    "dataset = DataLoader(data, batch_size=2, shuffle=True, pin_memory=True)"
   ]
  },
  {
   "cell_type": "markdown",
   "id": "6efbb2c0",
   "metadata": {},
   "source": [
    "# 3. 모델 학습"
   ]
  },
  {
   "cell_type": "markdown",
   "id": "cbdf139d",
   "metadata": {},
   "source": [
    "## 3.1 모델 세팅"
   ]
  },
  {
   "cell_type": "markdown",
   "id": "42c342c8",
   "metadata": {},
   "source": [
    "### * 학습모델이 있는 경우만 loading=True로 하고 실행"
   ]
  },
  {
   "cell_type": "code",
   "execution_count": 8,
   "id": "2b457c12",
   "metadata": {},
   "outputs": [],
   "source": [
    "from util.model import model_loading as load"
   ]
  },
  {
   "cell_type": "code",
   "execution_count": 24,
   "id": "7193aacc",
   "metadata": {},
   "outputs": [],
   "source": [
    "checkpointPath = \"./modelCheckpoint/checkpointmodel3.tar\"\n",
    "loading = False"
   ]
  },
  {
   "cell_type": "code",
   "execution_count": null,
   "id": "d7147f6b",
   "metadata": {},
   "outputs": [],
   "source": [
    "model,checkpoint = load(checkpointPath, PU = PU, status = loading)"
   ]
  },
  {
   "cell_type": "markdown",
   "id": "38ab7343",
   "metadata": {},
   "source": [
    "## 3.2 하이퍼파라미터 설정"
   ]
  },
  {
   "cell_type": "markdown",
   "id": "626bc015",
   "metadata": {},
   "source": [
    "### Note\n",
    "- Optimizer = Adam 사용\n",
    "- Learning_rate = Epoch에 따라 감소시키자"
   ]
  },
  {
   "cell_type": "code",
   "execution_count": 22,
   "id": "55c3f719",
   "metadata": {},
   "outputs": [],
   "source": [
    "learning_rate = 0.00005\n",
    "epochs = 300\n",
    "optimizer = torch.optim.Adam(model.parameters(), lr=learning_rate)"
   ]
  },
  {
   "cell_type": "code",
   "execution_count": 25,
   "id": "689223ef",
   "metadata": {},
   "outputs": [],
   "source": [
    "current = [0 if loading==False else checkpoint['epoch']][0]"
   ]
  },
  {
   "cell_type": "code",
   "execution_count": 18,
   "id": "e377985b",
   "metadata": {},
   "outputs": [
    {
     "data": {
      "text/plain": [
       "'./modelCheckpoint/'"
      ]
     },
     "execution_count": 18,
     "metadata": {},
     "output_type": "execute_result"
    }
   ],
   "source": [
    "save_path"
   ]
  },
  {
   "cell_type": "code",
   "execution_count": 23,
   "id": "558ab599",
   "metadata": {
    "collapsed": true
   },
   "outputs": [
    {
     "ename": "NameError",
     "evalue": "name 'optimizer' is not defined",
     "output_type": "error",
     "traceback": [
      "\u001b[1;31m---------------------------------------------------------------------------\u001b[0m",
      "\u001b[1;31mNameError\u001b[0m                                 Traceback (most recent call last)",
      "\u001b[1;32m~\\AppData\\Local\\Temp/ipykernel_8956/3324545258.py\u001b[0m in \u001b[0;36m<module>\u001b[1;34m\u001b[0m\n\u001b[0;32m      3\u001b[0m \u001b[1;33m\u001b[0m\u001b[0m\n\u001b[0;32m      4\u001b[0m     \u001b[1;32mfor\u001b[0m \u001b[0mdata\u001b[0m \u001b[1;32min\u001b[0m \u001b[0mdataset\u001b[0m\u001b[1;33m:\u001b[0m\u001b[1;33m\u001b[0m\u001b[1;33m\u001b[0m\u001b[0m\n\u001b[1;32m----> 5\u001b[1;33m         \u001b[0moptimizer\u001b[0m\u001b[1;33m.\u001b[0m\u001b[0mzero_grad\u001b[0m\u001b[1;33m(\u001b[0m\u001b[1;33m)\u001b[0m\u001b[1;33m\u001b[0m\u001b[1;33m\u001b[0m\u001b[0m\n\u001b[0m\u001b[0;32m      6\u001b[0m \u001b[1;33m\u001b[0m\u001b[0m\n\u001b[0;32m      7\u001b[0m         \u001b[0mdata\u001b[0m \u001b[1;33m=\u001b[0m \u001b[0mtorch\u001b[0m\u001b[1;33m.\u001b[0m\u001b[0mstack\u001b[0m\u001b[1;33m(\u001b[0m\u001b[0mdata\u001b[0m\u001b[1;33m)\u001b[0m\u001b[1;33m\u001b[0m\u001b[1;33m\u001b[0m\u001b[0m\n",
      "\u001b[1;31mNameError\u001b[0m: name 'optimizer' is not defined"
     ]
    }
   ],
   "source": [
    "for epoch in range(current+1, epochs+1):\n",
    "    cnt = 0\n",
    "\n",
    "    for data in dataset:\n",
    "        optimizer.zero_grad()\n",
    "\n",
    "        data = torch.stack(data)\n",
    "        data = data.transpose(1,0)\n",
    "        data = data.to(PU)\n",
    "\n",
    "        try: \n",
    "            output = model(data,labels=data)\n",
    "        except:\n",
    "            print(\"Size Error => Passed\")\n",
    "            continue\n",
    "        loss, logits = output[:2]\n",
    "        loss.backward()\n",
    "        optimizer.step()\n",
    "\n",
    "        if cnt % 20 == 0:\n",
    "            print(\"[+] epoch : {}, cnt : {}, loss : {} [+]\".format(epoch, cnt+1, str(loss)[7:12]))\n",
    "\n",
    "        if epoch % 10 == 0 and cnt == 1:\n",
    "            print('Saving Model.....')\n",
    "            torch.save({\n",
    "              'epoch': epoch,\n",
    "              'cnt': cnt,\n",
    "              'model_state_dict': model.state_dict(),\n",
    "              'optimizer_state_dict': optimizer.state_dict(),\n",
    "              'loss': loss,\n",
    "            }, save_path+'checkpointmodel4.tar')\n",
    "      \n",
    "        cnt += 1"
   ]
  },
  {
   "cell_type": "code",
   "execution_count": null,
   "id": "cb9fd194",
   "metadata": {},
   "outputs": [],
   "source": []
  },
  {
   "cell_type": "code",
   "execution_count": null,
   "id": "0af32e42",
   "metadata": {},
   "outputs": [],
   "source": []
  },
  {
   "cell_type": "code",
   "execution_count": null,
   "id": "f6bdda57",
   "metadata": {},
   "outputs": [],
   "source": []
  }
 ],
 "metadata": {
  "kernelspec": {
   "display_name": "Python 3 (ipykernel)",
   "language": "python",
   "name": "python3"
  },
  "language_info": {
   "codemirror_mode": {
    "name": "ipython",
    "version": 3
   },
   "file_extension": ".py",
   "mimetype": "text/x-python",
   "name": "python",
   "nbconvert_exporter": "python",
   "pygments_lexer": "ipython3",
   "version": "3.7.11"
  }
 },
 "nbformat": 4,
 "nbformat_minor": 5
}
