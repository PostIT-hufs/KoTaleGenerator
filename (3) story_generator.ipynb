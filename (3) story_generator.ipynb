{
 "cells": [
  {
   "cell_type": "markdown",
   "source": [
    "# 아영 - Story Generator"
   ],
   "metadata": {
    "id": "b7077488"
   }
  },
  {
   "cell_type": "markdown",
   "source": [
    "# 1. Ready"
   ],
   "metadata": {
    "id": "60b8dfc3"
   }
  },
  {
   "cell_type": "markdown",
   "source": [
    "## 1.1 기본 패키지 임포트"
   ],
   "metadata": {
    "id": "28a05a6e"
   }
  },
  {
   "cell_type": "code",
   "execution_count": 1,
   "source": [
    "import torch\n",
    "from transformers import PreTrainedTokenizerFast\n",
    "from transformers import GPT2LMHeadModel\n"
   ],
   "outputs": [],
   "metadata": {
    "id": "a4c51c98"
   }
  },
  {
   "cell_type": "markdown",
   "source": [
    "## 1.2 학습 모델 다운로드"
   ],
   "metadata": {
    "id": "cf126c75"
   }
  },
  {
   "cell_type": "code",
   "execution_count": 2,
   "source": [
    "MODEL_NAME = \"skt/kogpt2-base-v2\""
   ],
   "outputs": [],
   "metadata": {
    "id": "35e0ec56"
   }
  },
  {
   "cell_type": "markdown",
   "source": [
    "### 토크나이저 load"
   ],
   "metadata": {
    "id": "57aa65ec"
   }
  },
  {
   "cell_type": "code",
   "execution_count": 3,
   "source": [
    "tokenizer = PreTrainedTokenizerFast.from_pretrained(MODEL_NAME)\n",
    "\n",
    "TOKENS_DICT = {\n",
    "    'bos_token':'<s>',\n",
    "    'eos_token':'</s>',\n",
    "    'unk_token':'<unk>',\n",
    "    'pad_token':'<pad>',\n",
    "    'mask_token':'<mask>'\n",
    "}\n",
    "\n",
    "# 특수 토큰이 토크나이저에 추가되고 모델은 수정된 토크나이저에 맞게 임베딩의 크기를 조정\n",
    "tokenizer.add_special_tokens(TOKENS_DICT)\n",
    "\n",
    "print(tokenizer.special_tokens_map)"
   ],
   "outputs": [
    {
     "output_type": "stream",
     "name": "stdout",
     "text": [
      "{'bos_token': '<s>', 'eos_token': '</s>', 'unk_token': '<unk>', 'pad_token': '<pad>', 'mask_token': '<mask>'}\n"
     ]
    }
   ],
   "metadata": {
    "colab": {
     "base_uri": "https://localhost:8080/"
    },
    "id": "fffd83bb",
    "outputId": "8ab92b3b-7fe0-4e96-e6c8-50fc59e0ff73"
   }
  },
  {
   "cell_type": "markdown",
   "source": [
    "### 미세조정학습 모델 load"
   ],
   "metadata": {
    "id": "424e1abc"
   }
  },
  {
   "cell_type": "code",
   "execution_count": 4,
   "source": [
    "from util.generator import sample_sequence as gen"
   ],
   "outputs": [],
   "metadata": {
    "id": "175de497"
   }
  },
  {
   "cell_type": "code",
   "execution_count": 5,
   "source": [
    "from util.model import model_loading as load"
   ],
   "outputs": [],
   "metadata": {
    "id": "4289550c"
   }
  },
  {
   "cell_type": "code",
   "execution_count": 39,
   "source": [
    "checkpointPath = \"./modelCheckpoint/KoGPT2_checkpoint_novelstart.tar\"\n",
    "loading = True\n",
    "\n",
    "\n",
    "\n",
    "\"\"\"\n",
    "talestart_from1980_newdata 은호\n",
    "KoGPT2_checkpoint_novelstart 지현\n",
    "tale-novel-batch-3-1 창균\n",
    "talestart680w 현지\n",
    "travel2 아영\n",
    "\"\"\""
   ],
   "outputs": [
    {
     "output_type": "execute_result",
     "data": {
      "text/plain": [
       "'\\ntalestart_from1980_newdata 은호\\nKoGPT2_checkpoint_novelstart 지현\\ntale-novel-batch-3-1 창균\\ntalestart680w 현지\\ntravel2 아영\\n'"
      ]
     },
     "metadata": {},
     "execution_count": 39
    }
   ],
   "metadata": {}
  },
  {
   "cell_type": "code",
   "execution_count": 40,
   "source": [
    "model,ckp = load(checkpointPath, PU = 'cpu', status = loading)"
   ],
   "outputs": [],
   "metadata": {}
  },
  {
   "cell_type": "code",
   "execution_count": 41,
   "source": [
    "print(ckp['epoch'], ckp['loss'])"
   ],
   "outputs": [
    {
     "output_type": "stream",
     "name": "stdout",
     "text": [
      "620 tensor(0.0886, requires_grad=True)\n"
     ]
    }
   ],
   "metadata": {
    "scrolled": true
   }
  },
  {
   "cell_type": "code",
   "execution_count": 42,
   "source": [
    "vocab_path = \"./data/정제/index_tale_plus_novel.txt\""
   ],
   "outputs": [],
   "metadata": {}
  },
  {
   "cell_type": "code",
   "execution_count": 43,
   "source": [
    "p1, p2, p3 = 1,2,1\n",
    "\n",
    "max_sent = [p1,p2//2, p2//2 ,p3]\n",
    "\n",
    "context = \"어제\"\n"
   ],
   "outputs": [],
   "metadata": {}
  },
  {
   "cell_type": "code",
   "execution_count": 45,
   "source": [
    "from util.generator import sample_sequence\n",
    "from util.similarity import similarity"
   ],
   "outputs": [],
   "metadata": {}
  },
  {
   "cell_type": "code",
   "execution_count": 71,
   "source": [
    "# 1번 문단 생성\n",
    "print(\"1번째 문단\")\n",
    "result = []\n",
    "p = sample_sequence(\n",
    "    vocab=vocab_path,\n",
    "    model=model, \n",
    "    length = max_sent[0]*30,\n",
    "    context=context,\n",
    "    num_samples=1, \n",
    "    repetition_penalty=2.0,\n",
    "    top_p=0.9,\n",
    "    tokenizer = tokenizer)\n",
    "p = tokenizer.decode(p[0,:].tolist())\n",
    "result.append(p)\n",
    "\n",
    "# 2~4번 문단 생성\n",
    "for i in range(len(max_sent[1:])):\n",
    "    print(f\"{i+2}번째 문단\")\n",
    "    sim = 0\n",
    "    while(sim < 0.02):\n",
    "        next_p = sample_sequence(\n",
    "            vocab=vocab_path,\n",
    "            model=model, \n",
    "            length=max_sent[i+1]*30,\n",
    "            context=p, \n",
    "            num_samples=1, \n",
    "            repetition_penalty=2.0,\n",
    "            top_p=0.9,\n",
    "            tokenizer = tokenizer)\n",
    "        next_p = tokenizer.decode(next_p[0,:].tolist())\n",
    "        sim = similarity(p, next_p)\n",
    "        print(sim)\n",
    "\n",
    "    result.append(next_p)\n",
    "    p = next_p"
   ],
   "outputs": [
    {
     "output_type": "stream",
     "name": "stderr",
     "text": [
      "  7%|▋         | 2/30 [00:00<00:01, 14.20it/s]"
     ]
    },
    {
     "output_type": "stream",
     "name": "stdout",
     "text": [
      "1번째 문단\n"
     ]
    },
    {
     "output_type": "stream",
     "name": "stderr",
     "text": [
      "31it [00:03,  8.52it/s]\n",
      "  3%|▎         | 1/30 [00:00<00:04,  5.93it/s]"
     ]
    },
    {
     "output_type": "stream",
     "name": "stdout",
     "text": [
      "Word not in corpus => 0 skipped\n",
      "2번째 문단\n"
     ]
    },
    {
     "output_type": "stream",
     "name": "stderr",
     "text": [
      "31it [00:06,  4.75it/s]\n",
      "  0%|          | 0/30 [00:00<?, ?it/s]"
     ]
    },
    {
     "output_type": "stream",
     "name": "stdout",
     "text": [
      "Word not in corpus => 0 skipped\n",
      "0.5404512628201446\n",
      "3번째 문단\n"
     ]
    },
    {
     "output_type": "stream",
     "name": "stderr",
     "text": [
      "31it [00:10,  2.99it/s]\n",
      "  0%|          | 0/30 [00:00<?, ?it/s]"
     ]
    },
    {
     "output_type": "stream",
     "name": "stdout",
     "text": [
      "Word not in corpus => 0 skipped\n",
      "0.7697396770788578\n",
      "4번째 문단\n"
     ]
    },
    {
     "output_type": "stream",
     "name": "stderr",
     "text": [
      "31it [00:13,  2.26it/s]"
     ]
    },
    {
     "output_type": "stream",
     "name": "stdout",
     "text": [
      "Word not in corpus => 0 skipped\n",
      "0.7952821598786765\n"
     ]
    },
    {
     "output_type": "stream",
     "name": "stderr",
     "text": [
      "\n"
     ]
    }
   ],
   "metadata": {}
  },
  {
   "cell_type": "code",
   "execution_count": 73,
   "source": [
    "result"
   ],
   "outputs": [
    {
     "output_type": "execute_result",
     "data": {
      "text/plain": [
       "['어제 \\n굿이 시작된 모양이었다.\\n마당에 흩어져 있던 사람들이 좁은 마루로 몰려 가고 있었다.\\n경칩이 지났다고는 하지만 바닷가여서인지 유난히 밤바람',\n",
       " '어제 \\n굿이 시작된 모양이었다.\\n마당에 흩어져 있던 사람들이 좁은 마루로 몰려 가고 있었다.\\n경칩이 지났다고는 하지만 바닷가여서인지 유난히 밤바람이 차가운 곳이었다.\\n나는 마당 구석으로 가서 휴대폰으로 집에 전화를 걸었다.\\n무녀의 에에루하는 불분명한 소리가 들려왔다.\\n어쩌면 엄마가 남편에게',\n",
       " '어제 \\n굿이 시작된 모양이었다.\\n마당에 흩어져 있던 사람들이 좁은 마루로 몰려 가고 있었다.\\n경칩이 지났다고는 하지만 바닷가여서인지 유난히 밤바람이 차가운 곳이었다.\\n나는 마당 구석으로 가서 휴대폰으로 집에 전화를 걸었다.\\n무녀의 에에루하는 불분명한 소리가 들려왔다.\\n어쩌면 엄마가 남편에게 전화를 할 생각이었으나 나는 달만 쳐다보며 계속 시간을 미루고 있었다.\\n남편은 전화를 받지 않았다.\\n강?수 데리고 8졌어요.\\n예전화를 준비',\n",
       " '어제 \\n굿이 시작된 모양이었다.\\n마당에 흩어져 있던 사람들이 좁은 마루로 몰려 가고 있었다.\\n경칩이 지났다고는 하지만 바닷가여서인지 유난히 밤바람이 차가운 곳이었다.\\n나는 마당 구석으로 가서 휴대폰으로 집에 전화를 걸었다.\\n무녀의 에에루하는 불분명한 소리가 들려왔다.\\n어쩌면 엄마가 남편에게 전화를 할 생각이었으나 나는 달만 쳐다보며 계속 시간을 미루고 있었다.\\n남편은 전화를 받지 않았다.\\n강?수 데리고 8졌어요.\\n예전화를 준비해봐야 했다.\\n회사에 얼굴이 젖 위해서는벌서 가슴에 엄마이라면 천장을 향해 가기 필요하지는 못했다.\\n볼까. 앞으로도 벌써 조금도 스스로처럼 애 산']"
      ]
     },
     "metadata": {},
     "execution_count": 73
    }
   ],
   "metadata": {}
  },
  {
   "cell_type": "code",
   "execution_count": null,
   "source": [],
   "outputs": [],
   "metadata": {}
  }
 ],
 "metadata": {
  "accelerator": "GPU",
  "colab": {
   "collapsed_sections": [],
   "name": "story generator.ipynb",
   "provenance": []
  },
  "kernelspec": {
   "display_name": "Python 3 (ipykernel)",
   "language": "python",
   "name": "python3"
  },
  "language_info": {
   "codemirror_mode": {
    "name": "ipython",
    "version": 3
   },
   "file_extension": ".py",
   "mimetype": "text/x-python",
   "name": "python",
   "nbconvert_exporter": "python",
   "pygments_lexer": "ipython3",
   "version": "3.7.11"
  }
 },
 "nbformat": 4,
 "nbformat_minor": 5
}